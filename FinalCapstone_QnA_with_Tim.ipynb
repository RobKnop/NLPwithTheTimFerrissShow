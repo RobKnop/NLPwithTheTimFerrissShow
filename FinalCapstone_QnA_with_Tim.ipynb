{
 "cells": [
  {
   "cell_type": "code",
   "execution_count": 1,
   "metadata": {},
   "outputs": [
    {
     "name": "stderr",
     "output_type": "stream",
     "text": [
      "[nltk_data] Downloading package stopwords to\n",
      "[nltk_data]     /home/ec2-user/nltk_data...\n",
      "[nltk_data]   Package stopwords is already up-to-date!\n",
      "[nltk_data] Downloading package wordnet to /home/ec2-user/nltk_data...\n",
      "[nltk_data]   Package wordnet is already up-to-date!\n"
     ]
    }
   ],
   "source": [
    "import pandas as pd\n",
    "import numpy as np\n",
    "pd.set_option('display.max_rows', 400)\n",
    "pd.set_option('float_format', '{:.2f}'.format)\n",
    "pd.set_option('isplay.max_colwidth', 300)\n",
    "import re\n",
    "import matplotlib.pyplot as plt\n",
    "import IPython\n",
    "from IPython import get_ipython\n",
    "get_ipython().run_line_magic('matplotlib', 'inline')\n",
    "from sklearn.model_selection import train_test_split\n",
    "from nltk.tokenize import RegexpTokenizer\n",
    "from collections import Counter \n",
    "from sklearn.decomposition import PCA, TruncatedSVD\n",
    "from sklearn.preprocessing import MinMaxScaler\n",
    "import nltk\n",
    "nltk.download('stopwords')\n",
    "import spacy\n",
    "from sklearn.feature_extraction.text import TfidfVectorizer\n",
    "from sklearn.pipeline import make_pipeline\n",
    "from sklearn.preprocessing import Normalizer\n",
    "from nltk.corpus import stopwords\n",
    "from nltk.stem.wordnet import WordNetLemmatizer\n",
    "nltk.download('wordnet')\n",
    "from sklearn.cluster import KMeans\n",
    "from sklearn import metrics\n",
    "import seaborn as sns\n"
   ]
  },
  {
   "cell_type": "markdown",
   "metadata": {},
   "source": [
    " # FINAL CAPSTONE PROJECT\n",
    " # Doing NLP with the Tim Ferriss Podcast\n",
    " ## Topic Modeling, Clustering and QnA\n",
    " #### Goal: Fast access of knowledge from the Tim Ferriss Show Podcast, whenever you need it\n",
    " ##### Problem\n",
    " The thing is, you listen to a lot of podcasts of the Tim Ferriss Show and there are a lot of things in there you would like to apply to your life but you mostly forget about it after some while.\n",
    " Sometimes you are in a specific situation or you have a challenge to tackle and you ask yourself “What would Tim Ferris and his tribe of mentors do here? But you cannot remember anything and let this question unanswered."
   ]
  },
  {
   "cell_type": "markdown",
   "metadata": {},
   "source": [
    "## Data set\n",
    " * Scraping https://tim.blog/2018/09/20/all-transcripts-from-the-tim-ferriss-show/ with the Python package BeautifulSoup\n",
    " * Output: csv file with all podcast episodes of number 151 - 375\n",
    " * all podcast of number before 151 do not have a HTML page\n",
    " \n",
    "### What is the podcast \"The Tim Ferriss Show\" about?\n",
    "On the website https://tim.blog/podcast/ writes:\n",
    "Each episode, I deconstruct world-class performers from eclectic areas (investing, sports, business, art, etc.) to extract the tactics, tools, and routines you can use.  This includes favorite books, morning routines, exercise habits, time-management tricks, and much more.\n",
    "This happens trough a long-time interview format. Tim is asking the guests question. This should be a perfect for QnA model.\n",
    "### Exploring the data"
   ]
  },
  {
   "cell_type": "code",
   "execution_count": 4,
   "metadata": {},
   "outputs": [
    {
     "data": {
      "text/html": [
       "<div>\n",
       "<style scoped>\n",
       "    .dataframe tbody tr th:only-of-type {\n",
       "        vertical-align: middle;\n",
       "    }\n",
       "\n",
       "    .dataframe tbody tr th {\n",
       "        vertical-align: top;\n",
       "    }\n",
       "\n",
       "    .dataframe thead th {\n",
       "        text-align: right;\n",
       "    }\n",
       "</style>\n",
       "<table border=\"1\" class=\"dataframe\">\n",
       "  <thead>\n",
       "    <tr style=\"text-align: right;\">\n",
       "      <th></th>\n",
       "      <th>id</th>\n",
       "      <th>title</th>\n",
       "      <th>text</th>\n",
       "    </tr>\n",
       "  </thead>\n",
       "  <tbody>\n",
       "    <tr>\n",
       "      <td>0</td>\n",
       "      <td>151</td>\n",
       "      <td>Caroline Paul (#151)</td>\n",
       "      <td>'Maria said that Caroline is all about living courageously and embracing adventure in our culture of safe achievement. That is music to my ears. I feel like we’ve grown soft and weak, and it is time to remedy that with habits, practices, and stories that impart lessons.''On top of that, Caroline...</td>\n",
       "    </tr>\n",
       "    <tr>\n",
       "      <td>1</td>\n",
       "      <td>152</td>\n",
       "      <td>On Philosophy and Riches (#152)</td>\n",
       "      <td>'And Seneca takes a little while with his preamble to get warmed up, but my favorite portion begins with: I might close my letter at this point. So you can use that as a bookmark. I might close my letter at this point. And I was talking to a friend of mine about Seneca. He’s a huge fan, also. An...</td>\n",
       "    </tr>\n",
       "    <tr>\n",
       "      <td>2</td>\n",
       "      <td>153</td>\n",
       "      <td>BJ Miller (#153)</td>\n",
       "      <td>'Well, it turns out, BJ Miller, M.D., Dr. Miller, knows exactly this. BJ is a palliative care physician at Zen Hospice Project in San Francisco where he thinks deeply about how to create a dignified, graceful end of life for his patients. Now, this is, of course, not one of the usual suspects yo...</td>\n",
       "    </tr>\n",
       "    <tr>\n",
       "      <td>3</td>\n",
       "      <td>154</td>\n",
       "      <td>Paulo Coelho (#154)</td>\n",
       "      <td>'His books of near universal appeal span from The Alchemist to the most recent, Adultery. And his work has been translated into more than 70 languages. Who knew there were even 70 languages on the planet? And few people know that The Alchemist, which was sold to an original Brazilian publisher, ...</td>\n",
       "    </tr>\n",
       "    <tr>\n",
       "      <td>4</td>\n",
       "      <td>155</td>\n",
       "      <td>On Zero-to-Hero Transformations (#155)</td>\n",
       "      <td>'Instead, I am answering questions that you all or I should say many of you, wanted me to answer.  There have been requests for me to do a Q&amp;A, and I went onto the Facebook, www.Facebook.com/timferriss, and linked to a Reddit post where I had people submit and up-vote questions.  At least 100 of...</td>\n",
       "    </tr>\n",
       "  </tbody>\n",
       "</table>\n",
       "</div>"
      ],
      "text/plain": [
       "    id                                   title  \\\n",
       "0  151                    Caroline Paul (#151)   \n",
       "1  152         On Philosophy and Riches (#152)   \n",
       "2  153                        BJ Miller (#153)   \n",
       "3  154                     Paulo Coelho (#154)   \n",
       "4  155  On Zero-to-Hero Transformations (#155)   \n",
       "\n",
       "                                                                                                                                                                                                                                                                                                          text  \n",
       "0  'Maria said that Caroline is all about living courageously and embracing adventure in our culture of safe achievement. That is music to my ears. I feel like we’ve grown soft and weak, and it is time to remedy that with habits, practices, and stories that impart lessons.''On top of that, Caroline...  \n",
       "1  'And Seneca takes a little while with his preamble to get warmed up, but my favorite portion begins with: I might close my letter at this point. So you can use that as a bookmark. I might close my letter at this point. And I was talking to a friend of mine about Seneca. He’s a huge fan, also. An...  \n",
       "2  'Well, it turns out, BJ Miller, M.D., Dr. Miller, knows exactly this. BJ is a palliative care physician at Zen Hospice Project in San Francisco where he thinks deeply about how to create a dignified, graceful end of life for his patients. Now, this is, of course, not one of the usual suspects yo...  \n",
       "3  'His books of near universal appeal span from The Alchemist to the most recent, Adultery. And his work has been translated into more than 70 languages. Who knew there were even 70 languages on the planet? And few people know that The Alchemist, which was sold to an original Brazilian publisher, ...  \n",
       "4  'Instead, I am answering questions that you all or I should say many of you, wanted me to answer.  There have been requests for me to do a Q&A, and I went onto the Facebook, www.Facebook.com/timferriss, and linked to a Reddit post where I had people submit and up-vote questions.  At least 100 of...  "
      ]
     },
     "execution_count": 4,
     "metadata": {},
     "output_type": "execute_result"
    }
   ],
   "source": [
    "# Import raw data\n",
    "# This data set contains the transcripts of the Tim Ferriss Podcasts\n",
    "# Source: https://tim.blog/2018/09/20/all-transcripts-from-the-tim-ferriss-show/\n",
    "df = pd.read_csv(\"raw/transcript-151-3XX.csv\")\n",
    "df.columns=['id', 'title', 'text']\n",
    "df.head()\n",
    "\n",
    "# Cleaning the titles\n",
    "df['title'] = df['title'].str.replace(r\"The Tim Ferriss Show Transcripts: \", \"\")\n",
    "df['title'] = df['title'].str.replace(r\"Transcripts: \", \"\")\n",
    "df['title'] = df['title'].str.replace(r\"Tim Ferriss Show Transcript: \", \"\")\n",
    "df['title'] = df['title'].str.replace(r\"Episode \", \"\")\n",
    "\n",
    "# Cleaning the transcript text\n",
    "def clean_text(df, text_field):\n",
    "    df[text_field] = df[text_field].str.replace(r\"\\\\n\\\\n'\", \"\")\n",
    "    df[text_field] = df[text_field].str.replace(r\"\\\\n\", \" \")\n",
    "    df[text_field] = df[text_field].str.replace(r\"\\\\xa0\", \" \")\n",
    "    df[text_field] = df[text_field].str.replace(r\"xa0\", \" \")\n",
    "    return df\n",
    "df = clean_text(df, \"text\")\n",
    "df.head()\n",
    "\n"
   ]
  },
  {
   "cell_type": "code",
   "execution_count": 8,
   "metadata": {},
   "outputs": [
    {
     "name": "stdout",
     "output_type": "stream",
     "text": [
      "Word token view:\n",
      "3391754 words total, with a vocabulary size of 46322\n",
      "Max episode length is 36769\n",
      "Mean episode length is 15074.462222222222\n",
      "Standard deviation for episode length is 6869.436102339725\n",
      "95 percent std upper bound episode length is 28813.334426901674\n",
      "95 percent std lower bound episode length is 1335.5900175427723\n"
     ]
    },
    {
     "data": {
      "image/png": "[encoded data removed]",
      "text/plain": [
       "<Figure size 1296x432 with 1 Axes>"
      ]
     },
     "metadata": {},
     "output_type": "display_data"
    }
   ],
   "source": [
    "# Print out some stats\n",
    "regexp_tokenizer = RegexpTokenizer(r'\\w+')\n",
    "df[\"tokens\"] = df[\"text\"].apply(regexp_tokenizer.tokenize)\n",
    "\n",
    "# Inspecting our dataset a little more\n",
    "all_words = [word for tokens in df[\"tokens\"] for word in tokens]\n",
    "sentence_lengths = [len(tokens) for tokens in df[\"tokens\"]]\n",
    "VOCAB = sorted(list(set(all_words)))\n",
    "print(\"Word token view:\")\n",
    "print(\"%s words total, with a vocabulary size of %s\" % (len(all_words), len(VOCAB)))\n",
    "print(\"Max episode length is %s\" % max(sentence_lengths))\n",
    "print(\"Mean episode length is %s\" % np.mean(sentence_lengths))\n",
    "print(\"Standard deviation for episode length is %s\" % np.std(sentence_lengths))\n",
    "print(\"95 percent std upper bound episode length is %s\" % str(np.mean(sentence_lengths) + np.std(sentence_lengths) * 2))\n",
    "print(\"95 percent std lower bound episode length is %s\" % str(np.mean(sentence_lengths) - np.std(sentence_lengths) * 2))\n",
    "\n",
    "# Plot episode text lengths\n",
    "plt.figure(figsize=(18, 6))\n",
    "ax = df.text.str.len().plot.bar(1, title='Episode Text Lengths')\n",
    "ax.set_xticklabels(df.id, rotation=90, size=4)\n",
    "ax.set_ylabel(\"number of words\")\n",
    "plt.show()\n",
    "\n",
    "# Get labels\n",
    "label = df[\"title\"].tolist()\n"
   ]
  },
  {
   "cell_type": "markdown",
   "metadata": {},
   "source": [
    " ### First findings\n",
    " This data set is large enough to do some serious NLP. Dealing with a very long document size will be challenge.\n",
    " We also have a high variance regarding the episode text length. Some episodes are really short others are quite long. Imagine that some podcast have a audio lenght of more than 3h makes this not a surprise. The word token view supports this finding."
   ]
  },
  {
   "cell_type": "markdown",
   "metadata": {},
   "source": [
    "## Topic Modeling and Extraction\n",
    " To get a first impression this section will be doing some topic modeling and extraction.\n",
    " Applying a custom list of stop words is important here.\n",
    " A seperated python code will be load into this notebook to remove these stopwords.\n",
    "\n",
    "#### Experiments\n",
    " * Used different number of topics (4, 5, 6)\n",
    " * Tried different parameter in each model\n",
    "\n",
    "#### NNFM\n",
    "* Set alpha from 0 to 0.1 --> much better results"
   ]
  },
  {
   "cell_type": "code",
   "execution_count": 4,
   "metadata": {},
   "outputs": [
    {
     "name": "stdout",
     "output_type": "stream",
     "text": [
      "Topic 0:\n",
      "            LSA          LDA         NNMF\n",
      "0  people 31.98  people 0.35  people 8.19\n",
      "0   think 29.43   think 0.32   think 7.66\n",
      "0     one 26.74     one 0.29     one 6.76\n",
      "0    time 19.67    time 0.21    time 5.01\n",
      "0    know 17.53    know 0.19    know 4.49\n",
      "0  things 17.41  things 0.19  things 4.49\n",
      "0     say 16.63     say 0.18     say 4.26\n",
      "0      go 15.25    want 0.17      go 3.89\n",
      "0    want 15.22      go 0.17    want 3.87\n",
      "0     lot 14.52     lot 0.16     lot 3.74\n",
      "Topic 1:\n",
      "              LSA          LDA            NNMF\n",
      "1        diet 1.1  people 0.35  ketogenic 0.96\n",
      "1  ketogenic 1.05   think 0.32       diet 0.81\n",
      "1   training 0.81     one 0.29    ketones 0.41\n",
      "1       body 0.65    time 0.21    ketosis 0.36\n",
      "1    glucose 0.56    know 0.19    glucose 0.35\n",
      "1      coach 0.54  things 0.19     ketone 0.33\n",
      "1     muscle 0.52     say 0.18      think 0.28\n",
      "1    ketones 0.52    want 0.17     oxygen 0.27\n",
      "1   strength 0.51      go 0.17       beta 0.23\n",
      "1    ketosis 0.47     lot 0.16        one 0.21\n",
      "Topic 2:\n",
      "             LSA           LDA           NNMF\n",
      "2       got 0.81  people 32.44     coach 0.85\n",
      "2        go 0.77   think 29.75    people 0.36\n",
      "2      know 0.62     one 27.27       one 0.28\n",
      "2     coach 0.58    time 19.98  strength 0.27\n",
      "2       jiu 0.46    know 17.78  training 0.25\n",
      "2       guy 0.46  things 17.63      back 0.25\n",
      "2  training 0.45     say 16.87  mobility 0.23\n",
      "2      back 0.43    want 15.51      body 0.23\n",
      "2     jitsu 0.42      go 15.51        go 0.22\n",
      "2      kind 0.36     lot 14.76   shoulder 0.2\n",
      "Topic 3:\n",
      "                  LSA          LDA                NNMF\n",
      "3   psychedelics 0.65  people 0.35   psychedelics 0.56\n",
      "3    psychedelic 0.49   think 0.32         people 0.52\n",
      "3          think 0.46     one 0.29    psychedelic 0.44\n",
      "3     meditation 0.46    time 0.21          think 0.42\n",
      "3     experience 0.45    know 0.19            one 0.39\n",
      "3  consciousness 0.44  things 0.19     psilocybin 0.32\n",
      "3             dr 0.44     say 0.18     experience 0.32\n",
      "3     psilocybin 0.38    want 0.17             lsd 0.3\n",
      "3           mate 0.38      go 0.17          drugs 0.26\n",
      "3      ketogenic 0.37     lot 0.16  consciousness 0.25\n"
     ]
    }
   ],
   "source": [
    "from custom_stopwords import remove_custom_stopwords\n",
    "\n",
    "# Parameters to set:\n",
    "# Number of topics.\n",
    "ntopics=4\n",
    "# Number of words to look at for each topic.\n",
    "n_top_words = 10\n",
    "\n",
    "# Creating a dataframe to store the topic extraction results\n",
    "topwords=pd.DataFrame()\n",
    "\n",
    "# copy dataframe to convert the transcript to lower case\n",
    "df_topic = df.copy()\n",
    "df_topic['text'] = df_topic['text'].str.lower()\n",
    "\n",
    "# Creating the tf-idf matrix.\n",
    "vectorizer = TfidfVectorizer(stop_words=set(stopwords.words('english')), min_df=3, norm='l2')\n",
    "podcasts_tfidf = vectorizer.fit_transform(remove_custom_stopwords(df_topic, 'text').text)\n",
    "\n",
    "# Getting the word list.\n",
    "terms = vectorizer.get_feature_names()\n",
    "\n",
    "# Linking words to topics\n",
    "def word_topic(tfidf,solution, wordlist):\n",
    "    \n",
    "    # Loading scores for each word on each topic/component.\n",
    "    words_by_topic=tfidf.T * solution\n",
    "\n",
    "    # Linking the loadings to the words in an easy-to-read way.\n",
    "    components=pd.DataFrame(words_by_topic,index=wordlist)\n",
    "    \n",
    "    return components\n",
    "\n",
    "# Extracts the top N words and their loadings for each topic.\n",
    "def top_words(components, n_top_words):\n",
    "    topwords=pd.Series()\n",
    "    for column in range(components.shape[1]):\n",
    "        # Sort the column so that highest loadings are at the top.\n",
    "        sortedwords=components.iloc[:,column].sort_values(ascending=False)\n",
    "        # Choose the N highest loadings.\n",
    "        chosen=sortedwords[:n_top_words]\n",
    "        #print(chosen)\n",
    "        # Combine loading and index into a string.\n",
    "        for i, data in enumerate(chosen):\n",
    "            chosenlist=chosen.index.values.tolist()[i] +\" \"+ str(round(data ,2))\n",
    "            topwords = topwords.append(pd.Series([chosenlist], index=[column]))\n",
    "    return(topwords)\n",
    "\n",
    "# LSA\n",
    "svd = TruncatedSVD(n_components=ntopics)\n",
    "lsa_pipe = make_pipeline(svd, Normalizer(copy=False))\n",
    "podcasts_lsa = lsa_pipe.fit_transform(podcasts_tfidf)\n",
    "\n",
    "components_lsa = word_topic(podcasts_tfidf, podcasts_lsa, terms)\n",
    "\n",
    "topwords['LSA'] = top_words(components_lsa, n_top_words) \n",
    "\n",
    "# LDA\n",
    "from sklearn.decomposition import LatentDirichletAllocation as LDA\n",
    "\n",
    "lda = LDA(n_components=ntopics, \n",
    "          doc_topic_prior=1/ntopics,\n",
    "          topic_word_prior=1/ntopics,\n",
    "          learning_decay=0.6, # Convergence rate.\n",
    "          learning_offset=5.0, # Causes earlier iterations to have less influence on the learning\n",
    "          max_iter=500, # when to stop even if the model is not converging (to prevent running forever)\n",
    "          evaluate_every=3, # Do not evaluate perplexity, as it slows training time.\n",
    "          mean_change_tol=0.001, # Stop updating the document topic distribution in the E-step when mean change is < tol\n",
    "          max_doc_update_iter=100, # When to stop updating the document topic distribution in the E-step even if tol is not reached\n",
    "          n_jobs=-1, # Use all available CPUs to speed up processing time.\n",
    "          verbose=0, # amount of output to give while iterating\n",
    "          random_state=32\n",
    "         )\n",
    "\n",
    "podcasts_lda = lda.fit_transform(podcasts_tfidf) \n",
    "\n",
    "components_lda = word_topic(podcasts_tfidf, podcasts_lda, terms)\n",
    "\n",
    "topwords['LDA']=top_words(components_lda, n_top_words)\n",
    "\n",
    "# NNMF\n",
    "\n",
    "from sklearn.decomposition import NMF\n",
    "\n",
    "nmf = NMF(alpha=0.1, \n",
    "          init='nndsvdar', # how starting value are calculated\n",
    "          l1_ratio=0.5, # Sets whether regularization is L2 (0), L1 (1), or a combination (values between 0 and 1)\n",
    "          max_iter=400, # when to stop even if the model is not converging (to prevent running forever)\n",
    "          n_components=ntopics, \n",
    "          random_state=65, \n",
    "          solver='cd', # Use Coordinate Descent to solve\n",
    "          tol=0.0001, # model will stop if tfidf-WH <= tol\n",
    "          verbose=0 # amount of output to give while iterating\n",
    "         )\n",
    "podcasts_nmf = nmf.fit_transform(podcasts_tfidf) \n",
    "\n",
    "components_nmf = word_topic(podcasts_tfidf, podcasts_nmf, terms)\n",
    "\n",
    "topwords['NNMF']=top_words(components_nmf, n_top_words)\n",
    "\n",
    "#Show topics\n",
    "for topic in range(ntopics):\n",
    "    print('Topic {}:'.format(topic))\n",
    "    print(topwords.loc[topic])\n"
   ]
  },
  {
   "cell_type": "markdown",
   "metadata": {},
   "source": [
    " ### Findings\n",
    " * 4 topics have the best consistency troughout the two models LSA and NNFM. They show similar top words.\n",
    " * 4 topics also make sense if you consider the words semantics\n",
    " * LDA performance poorly. It contains the same top words in each topic. Probably a sign of converging to an local optima.\n",
    " * NNFM performance the best. Here the top words are better related to each other than in LSA.\n",
    "\n",
    "#### Found topics:\n",
    " 1. Ketogenic diet\n",
    " 2. Training\n",
    " 3. Psychedelics\n",
    " 4. All other"
   ]
  },
  {
   "cell_type": "markdown",
   "metadata": {},
   "source": [
    " ## Tokenize with pre-trained language model\n",
    " It is time to use current advances in NLP by using common transformer architectures pre-trained on a large corpus of text like from the Wikipedia.\n",
    " ### Experiments\n",
    " * Used Distill Bert, Bert, XLNet\n",
    " * uncased and cased\n",
    " * Clustering (number of cluster is 4, like the best number of topics, which was a finding of the topic modeling part)\n",
    " * metric: silhouette_score"
   ]
  },
  {
   "cell_type": "code",
   "execution_count": 2,
   "metadata": {},
   "outputs": [],
   "source": [
    "#Load transformer Model\n",
    "nlp = spacy.load('/usr/local/lib/python3.7/site-packages/en_pytt_xlnetbasecased_lg/en_pytt_xlnetbasecased_lg-2.1.1')\n",
    "n_items = 86 # Enough data for this show case\n"
   ]
  },
  {
   "cell_type": "code",
   "execution_count": 5,
   "metadata": {},
   "outputs": [],
   "source": [
    "# Vectorize transcripts with spacy  \n",
    "def get_embeddings_with_spacy(tokenizer, df):\n",
    "    embeddings = df['text'].apply(lambda x: tokenizer(x).vector)\n",
    "    return list(embeddings)\n",
    "\n",
    "spacy_transformer_embeddings = get_embeddings_with_spacy(nlp, df[:n_items])\n"
   ]
  },
  {
   "cell_type": "code",
   "execution_count": 6,
   "metadata": {},
   "outputs": [],
   "source": [
    "# Create dataframe\n",
    "df_emb_spacy = pd.DataFrame(spacy_transformer_embeddings)\n",
    "\n",
    "# Normalize \n",
    "scaler = MinMaxScaler() \n",
    "scaled_values = scaler.fit_transform(df_emb_spacy) \n",
    "df_emb_spacy.loc[:,:] = scaled_values\n"
   ]
  },
  {
   "cell_type": "code",
   "execution_count": 10,
   "metadata": {},
   "outputs": [
    {
     "name": "stdout",
     "output_type": "stream",
     "text": [
      "silhouette score:  0.2785538073001246\n"
     ]
    },
    {
     "data": {
      "image/png": "[encoded data removed]",
      "text/plain": [
       "<Figure size 936x936 with 1 Axes>"
      ]
     },
     "metadata": {},
     "output_type": "display_data"
    }
   ],
   "source": [
    "# Clustering \n",
    "\n",
    "# Calculate predicted values.\n",
    "km = KMeans(n_clusters=4, random_state=42).fit(df_emb_spacy)\n",
    "y_pred = km.predict(df_emb_spacy)\n",
    "\n",
    "print('silhouette score: ', metrics.silhouette_score(df_emb_spacy, y_pred, metric='euclidean'))\n",
    "\n",
    "# 2D\n",
    "lsa = PCA(n_components=2)\n",
    "las_results = lsa.fit_transform(df_emb_spacy.values)\n",
    "las_results = pd.DataFrame(las_results, columns=['x', 'y'])\n",
    "\n",
    "df_y = pd.DataFrame(y_pred, columns=['y_pred'])\n",
    "df_y['y_pred'] = df_y['y_pred'].astype(int)\n",
    "\n",
    "las_results = pd.concat([las_results, df_y], axis=1)\n",
    "\n",
    "#Plot\n",
    "sns.set_style(\"white\")\n",
    "plt.figure(figsize=(13, 13))  \n",
    "fig = sns.scatterplot(x=las_results['x'], y=las_results['y'], hue=las_results['y_pred'])\n",
    "for i, txt in enumerate(label[:n_items]):\n",
    "    fig.annotate(txt, # this is the text\n",
    "                 (las_results['x'].values[i],las_results['y'].values[i]), # this is the point to label\n",
    "                 textcoords=\"offset points\", # how to position the text\n",
    "                 xytext=(0,3), # distance from text to points (x,y)\n",
    "                 ha='left', # horizontal alignment can be left, right or center\n",
    "                 size=3)\n",
    "fig.set_title(\"KMeans Cluster - Fig. 1\", fontsize=12)\n",
    "plt.show()\n"
   ]
  },
  {
   "cell_type": "markdown",
   "metadata": {},
   "source": [
    " ### Findings:\n",
    " WIth more and more clusters the silhouette score is going down. So it is not going to help if you increase the cluster number or regarding the topic modeling part to increase the number of topics.\n",
    " With this data set it also is very hard to find clusters in general. It looks like all the topics of the Tim Ferris show are very diverse and seamlessly complete each other. There is no obvious way to divide them. It looks like the clusters have a similar variance. That is why k-Means is not working well here.\n",
    "\n",
    "Episodes which are close to each other should have something in common. Here we used a pre-trained model, called XLNet. This new class of models try to encode the contextual information of a sentences or words in a given document. Does this mean that proxmity says something how close the context of two podcast episode are? In the first place I would think yes. But taking a look at the plot, as a frequent listener I cannot identify any realtion between episodes. Probaly the encoding is unique for each document(episode) because there is allways a diffente context present. \n",
    "\n",
    "#### Things to do next:\n",
    "* use a different vectorizer like TFIDF, Word2Vec\n",
    "* try other cluster algorithms\n",
    "* try to find cluster manually before hand to have a better evaluation metric"
   ]
  },
  {
   "cell_type": "markdown",
   "metadata": {},
   "source": [
    " ## Question and Answering (QnA)\n",
    " ### Building a Tim Ferriss Bot\n",
    " The goal is to build a question and answering system with the podcast transcript corpus.\n",
    " This project experiments first with cdQA, an End-To-End Closed Domain Question Answering System Framework: https://cdqa-suite.github.io/cdQA-website/\n",
    " \n",
    "This QnA system will be a closed domain one, because we are only using the given transcripts and we are only think about questions which should have an answer in this data set."
   ]
  },
  {
   "cell_type": "code",
   "execution_count": 8,
   "metadata": {},
   "outputs": [
    {
     "name": "stderr",
     "output_type": "stream",
     "text": [
      "177it [00:00, 7507.32it/s]\n"
     ]
    }
   ],
   "source": [
    "# Create paragraphs\n",
    "# Use the interview structure and split it when Tim Ferriss starts to aks a question\n",
    "# If the podcast transcript has no structured interview then remove it from the data set\n",
    "# The treshold is 7. That means we could not split the transcript into 7 different pieces. \n",
    "df['paragraphs'] = df['text'].apply(lambda x: x.split(\"''Tim Ferriss:\") if len(x.split(\"''Tim Ferriss:\")) > 7 else None)\n",
    "\n",
    "# Define X\n",
    "df_X = df.drop(columns=['text', 'id']).dropna()\n",
    "df_X.reset_index(drop=True, inplace=True)\n",
    "\n",
    "def remove_short_parparagraphs(paragraphs):\n",
    "    for para in paragraphs:\n",
    "        if len(para) < 450:\n",
    "            #print(len(para))\n",
    "            paragraphs.remove(para)\n",
    "    return paragraphs\n",
    "\n",
    "df_X['paragraphs'] = df_X['paragraphs'].apply(lambda x: remove_short_parparagraphs(x))\n",
    "\n",
    "# Generate squad v1.1 json file so you can create annotated question and answers to fine-tune the model and evaluate it\n",
    "from cdqa.utils.converters import df2squad\n",
    "json_data = df2squad(df=df_X, squad_version='v1.1', output_dir='.', filename='qna_tim_ferriss_v2')\n",
    "# From there we can use https://github.com/cdqa-suite/cdQA-annotator to create a supervised problem\n"
   ]
  },
  {
   "cell_type": "markdown",
   "metadata": {},
   "source": [
    " ### Fine-Tuning"
   ]
  },
  {
   "cell_type": "code",
   "execution_count": 9,
   "metadata": {},
   "outputs": [
    {
     "data": {
      "application/vnd.jupyter.widget-view+json": {
       "model_id": "2100338789ab4519aa26cb0217ef7a5e",
       "version_major": 2,
       "version_minor": 0
      },
      "text/plain": [
       "HBox(children=(IntProgress(value=0, description='Epoch', max=2, style=ProgressStyle(description_width='initial…"
      ]
     },
     "metadata": {},
     "output_type": "display_data"
    },
    {
     "data": {
      "application/vnd.jupyter.widget-view+json": {
       "model_id": "b8d210f5472949ed802ce32f406ee527",
       "version_major": 2,
       "version_minor": 0
      },
      "text/plain": [
       "HBox(children=(IntProgress(value=0, description='Iteration', max=7, style=ProgressStyle(description_width='ini…"
      ]
     },
     "metadata": {},
     "output_type": "display_data"
    },
    {
     "name": "stdout",
     "output_type": "stream",
     "text": [
      "\n"
     ]
    },
    {
     "data": {
      "application/vnd.jupyter.widget-view+json": {
       "model_id": "d6260dc76cfa4357921946769f7253de",
       "version_major": 2,
       "version_minor": 0
      },
      "text/plain": [
       "HBox(children=(IntProgress(value=0, description='Iteration', max=7, style=ProgressStyle(description_width='ini…"
      ]
     },
     "metadata": {},
     "output_type": "display_data"
    },
    {
     "name": "stderr",
     "output_type": "stream",
     "text": [
      "Training beyond specified 't_total'. Learning rate multiplier set to 0.0. Please set 't_total' of WarmupLinearSchedule correctly.\n",
      "Training beyond specified 't_total'. Learning rate multiplier set to 0.0. Please set 't_total' of WarmupLinearSchedule correctly.\n",
      "Training beyond specified 't_total'. Learning rate multiplier set to 0.0. Please set 't_total' of WarmupLinearSchedule correctly.\n",
      "Training beyond specified 't_total'. Learning rate multiplier set to 0.0. Please set 't_total' of WarmupLinearSchedule correctly.\n",
      "Training beyond specified 't_total'. Learning rate multiplier set to 0.0. Please set 't_total' of WarmupLinearSchedule correctly.\n",
      "Training beyond specified 't_total'. Learning rate multiplier set to 0.0. Please set 't_total' of WarmupLinearSchedule correctly.\n",
      "Training beyond specified 't_total'. Learning rate multiplier set to 0.0. Please set 't_total' of WarmupLinearSchedule correctly.\n"
     ]
    },
    {
     "name": "stdout",
     "output_type": "stream",
     "text": [
      "\n",
      "\n"
     ]
    },
    {
     "data": {
      "text/plain": [
       "['models/bert_tim_qa_vCPU.joblib']"
      ]
     },
     "execution_count": 9,
     "metadata": {},
     "output_type": "execute_result"
    }
   ],
   "source": [
    "# Fine-tune Bert model with squad v1.1 custom data set of Tim Ferriss questions\n",
    "import os\n",
    "import torch\n",
    "from sklearn.externals import joblib\n",
    "from cdqa.reader.bertqa_sklearn import BertProcessor, BertQA\n",
    "\n",
    "train_processor = BertProcessor(do_lower_case=True, is_training=True)\n",
    "train_examples, train_features = train_processor.fit_transform(X='cdqa-v1.1-tim_qna.json')\n",
    "\n",
    "reader = BertQA(train_batch_size=12,\n",
    "                learning_rate=3e-5,\n",
    "                num_train_epochs=2,\n",
    "                do_lower_case=True,\n",
    "                output_dir='models')\n",
    "\n",
    "reader.fit(X=(train_examples, train_features))\n",
    "\n",
    "# Output fine-tuned model\n",
    "reader.model.to('cpu')\n",
    "reader.device = torch.device('cpu')\n",
    "joblib.dump(reader, os.path.join(reader.output_dir, 'bert_tim_qa_vCPU.joblib'))\n"
   ]
  },
  {
   "cell_type": "markdown",
   "metadata": {},
   "source": [
    " ### Training"
   ]
  },
  {
   "cell_type": "code",
   "execution_count": 10,
   "metadata": {},
   "outputs": [
    {
     "data": {
      "text/plain": [
       "QAPipeline(reader=BertQA(bert_model='bert-base-uncased', do_lower_case=True,\n",
       "                         fp16=False, gradient_accumulation_steps=1,\n",
       "                         learning_rate=5e-05, local_rank=-1, loss_scale=0,\n",
       "                         max_answer_length=60, n_best_size=20, no_cuda=False,\n",
       "                         null_score_diff_threshold=0.0, num_train_epochs=3.0,\n",
       "                         output_dir=None, predict_batch_size=8, seed=42,\n",
       "                         server_ip='', server_port='', train_batch_size=32,\n",
       "                         verbose_logging=False, version_2_with_negative=False,\n",
       "                         warmup_proportion=0.1))"
      ]
     },
     "execution_count": 10,
     "metadata": {},
     "output_type": "execute_result"
    }
   ],
   "source": [
    "from cdqa.pipeline.cdqa_sklearn import QAPipeline\n",
    "\n",
    "# Load standard model\n",
    "cdqa_pipeline = QAPipeline(model='./models/bert_tim_qa_vCPU.joblib', max_answer_length=60)\n",
    "cdqa_pipeline.fit_retriever(X=df_X[:3].copy())\n",
    "\n"
   ]
  },
  {
   "cell_type": "code",
   "execution_count": 11,
   "metadata": {},
   "outputs": [
    {
     "name": "stderr",
     "output_type": "stream",
     "text": [
      "3it [00:00, 1396.55it/s]\n",
      "3it [00:00, 1432.15it/s]\n",
      "3it [00:00, 1379.71it/s]\n",
      "3it [00:00, 1359.14it/s]\n",
      "3it [00:00, 1433.79it/s]\n",
      "3it [00:00, 1407.96it/s]\n",
      "3it [00:00, 1447.81it/s]\n",
      "3it [00:00, 1367.71it/s]\n",
      "3it [00:00, 1448.81it/s]\n",
      "3it [00:00, 1299.08it/s]\n",
      "3it [00:00, 1392.99it/s]\n",
      "3it [00:00, 1387.92it/s]\n",
      "3it [00:00, 1362.82it/s]\n",
      "3it [00:00, 1361.79it/s]\n",
      "3it [00:00, 1176.19it/s]\n",
      "3it [00:00, 1401.37it/s]\n",
      "3it [00:00, 1353.87it/s]\n",
      "3it [00:00, 1311.40it/s]\n",
      "3it [00:00, 1278.36it/s]\n",
      "3it [00:00, 1391.76it/s]\n",
      "3it [00:00, 1281.49it/s]\n",
      "3it [00:00, 1281.09it/s]\n",
      "3it [00:00, 1338.04it/s]\n",
      "3it [00:00, 1370.09it/s]\n",
      "3it [00:00, 1341.03it/s]\n",
      "3it [00:00, 1394.38it/s]\n",
      "3it [00:00, 1346.92it/s]\n",
      "3it [00:00, 1202.73it/s]\n",
      "3it [00:00, 1345.19it/s]\n",
      "3it [00:00, 1397.95it/s]\n",
      "3it [00:00, 1279.01it/s]\n",
      "3it [00:00, 1360.90it/s]\n",
      "3it [00:00, 1332.09it/s]\n",
      "3it [00:00, 1459.23it/s]\n",
      "3it [00:00, 1199.06it/s]\n",
      "3it [00:00, 1395.62it/s]\n",
      "3it [00:00, 1323.96it/s]\n",
      "3it [00:00, 1183.16it/s]\n",
      "3it [00:00, 1380.01it/s]\n",
      "3it [00:00, 1347.50it/s]\n"
     ]
    },
    {
     "data": {
      "text/plain": [
       "{'exact_match': 0.0, 'f1': 7.25635445681709}"
      ]
     },
     "execution_count": 11,
     "metadata": {},
     "output_type": "execute_result"
    }
   ],
   "source": [
    "# Evaluate QnA system\n",
    "from cdqa.utils.evaluation import evaluate_pipeline\n",
    "evaluate_pipeline(cdqa_pipeline, 'cdqa-v1.1-tim_qna.json')\n",
    "\n",
    "# Standard pre trained model: {'exact_match': 0.0, 'f1': 5.912511958008912}"
   ]
  },
  {
   "cell_type": "markdown",
   "metadata": {},
   "source": [
    " ### Inference"
   ]
  },
  {
   "cell_type": "code",
   "execution_count": 12,
   "metadata": {},
   "outputs": [
    {
     "name": "stderr",
     "output_type": "stream",
     "text": [
      "3it [00:00, 1205.49it/s]\n"
     ]
    },
    {
     "name": "stdout",
     "output_type": "stream",
     "text": [
      "title: Joshua Skenes (#156)\n",
      "paragraph:  Room turns meaning somebody wouldn’t get up and get replaced by another diner.''Joshua Skenes: Right, exactly – in today’s real estate, for the cost of renting a place and paying for labor and all of these other things; insurances, and taxes and all that shit you have to do more than one seating. You have to get as many people in there as you can which is a very sad state of restaurants especially when you’re trying to do things that are really amazing or give people a great experience. So, this was just a little eight-seat workshop essentially and so he cooked in there for a little while. We would do some collaboration dinners and it was really great but then I realized we’re still in the city.''There’s only so much you can do on a busy street with a dump truck driving by so I’ve been working on some new stuff and one day I’ll be able to tell you about it.\n",
      "answer: while. We would do some collaboration dinners and it was really great but then I realized we’re still in the city.''There’s only so much you can do on a busy street with a dump\n"
     ]
    }
   ],
   "source": [
    "prediction = cdqa_pipeline.predict(X='Who was the author of The Gutsy Girl: Escapades for Your Life of Epic Adventure?')\n",
    "print('title: {}'.format(prediction[1]))\n",
    "print('paragraph: {}'.format(prediction[2]))\n",
    "print('answer: {}'.format(prediction[0]))\n"
   ]
  },
  {
   "cell_type": "markdown",
   "metadata": {},
   "source": [
    " ### Findings:\n",
    " * F1 score is really low --> not a good QnA model\n",
    " * Inferene is very slow on mediocre hardware\n",
    " * Inference results are also bad, not even one hitting example was found. \n",
    "\n",
    "### Identified issues\n",
    " * too many paragraphs --> initial choice on the document to find the answer in is too hard for tf-idf\n",
    " * too many paragraphs with too short text, bad for tf-idf and to predict the answer (even some contrains were already implemented\n",
    " * too long length of the answer\n",
    " * too slow hardware\n",
    " * even the paragraphs dervied from an interview text are not fitting to this problem right away, Tim Ferriss is not asking a lot of good fitting question\n",
    " * in this podcast they are tell more stories than asking and answering questions --> this makes it harder to find QnA pairs and to learn from the corpus.\n",
    " \n",
    "### Next step\n",
    "Get rid of the tfidf document searching part in this QnA system. Now we provide the context/text and the question as an input, not only the question. "
   ]
  },
  {
   "cell_type": "code",
   "execution_count": 1,
   "metadata": {
    "scrolled": false
   },
   "outputs": [
    {
     "ename": "ModuleNotFoundError",
     "evalue": "No module named 'farm'",
     "output_type": "error",
     "traceback": [
      "\u001b[0;31m---------------------------------------------------------------------------\u001b[0m",
      "\u001b[0;31mModuleNotFoundError\u001b[0m                       Traceback (most recent call last)",
      "\u001b[0;32m<ipython-input-1-7f4194c386b6>\u001b[0m in \u001b[0;36m<module>\u001b[0;34m\u001b[0m\n\u001b[1;32m      1\u001b[0m \u001b[0;32mimport\u001b[0m \u001b[0mpprint\u001b[0m\u001b[0;34m\u001b[0m\u001b[0;34m\u001b[0m\u001b[0m\n\u001b[1;32m      2\u001b[0m \u001b[0;34m\u001b[0m\u001b[0m\n\u001b[0;32m----> 3\u001b[0;31m \u001b[0;32mfrom\u001b[0m \u001b[0mfarm\u001b[0m\u001b[0;34m.\u001b[0m\u001b[0minfer\u001b[0m \u001b[0;32mimport\u001b[0m \u001b[0mInferencer\u001b[0m\u001b[0;34m\u001b[0m\u001b[0;34m\u001b[0m\u001b[0m\n\u001b[0m\u001b[1;32m      4\u001b[0m \u001b[0;32mimport\u001b[0m \u001b[0mtorch\u001b[0m\u001b[0;34m\u001b[0m\u001b[0;34m\u001b[0m\u001b[0m\n\u001b[1;32m      5\u001b[0m \u001b[0;32mfrom\u001b[0m \u001b[0mfarm\u001b[0m\u001b[0;34m.\u001b[0m\u001b[0mmodeling\u001b[0m\u001b[0;34m.\u001b[0m\u001b[0madaptive_model\u001b[0m \u001b[0;32mimport\u001b[0m \u001b[0mAdaptiveModel\u001b[0m\u001b[0;34m\u001b[0m\u001b[0;34m\u001b[0m\u001b[0m\n",
      "\u001b[0;31mModuleNotFoundError\u001b[0m: No module named 'farm'"
     ]
    }
   ],
   "source": [
    "import pprint\n",
    "\n",
    "from farm.infer import Inferencer\n",
    "import torch\n",
    "from farm.modeling.adaptive_model import AdaptiveModel\n",
    "from farm.modeling.language_model import Bert\n",
    "from farm.modeling.prediction_head import QuestionAnsweringHead\n",
    "from farm.data_handler.processor import SquadProcessor\n",
    "from farm.modeling.tokenization import BertTokenizer\n",
    "from farm.utils import set_all_seeds\n",
    "\n",
    "\n",
    "##########################\n",
    "########## Settings\n",
    "##########################\n",
    "set_all_seeds(seed=42)\n",
    "device = torch.device('cpu')\n",
    "base_LM_model = \"bert-base-cased\"\n",
    "label_list = [\"start_token\", \"end_token\"]\n",
    "\n",
    "\n",
    "# 1.Create a tokenizer\n",
    "tokenizer = BertTokenizer.from_pretrained(\n",
    "    pretrained_model_name_or_path=base_LM_model, do_lower_case=False\n",
    ")\n",
    "\n",
    "# 2. Create a DataProcessor that handles all the conversion from raw text into a pytorch Dataset\n",
    "metric = \"squad\"\n",
    "processor = SquadProcessor(\n",
    "    tokenizer=tokenizer,\n",
    "    max_seq_len=256,\n",
    "    labels=label_list,\n",
    "    metric=metric,\n",
    "    train_filename='',\n",
    "    dev_filename='',\n",
    "    test_filename=None,\n",
    "    data_dir=\"../data/squad20\",\n",
    ")\n",
    "\n",
    "# 4. Create an AdaptiveModel\n",
    "# a) which consists of a pretrained language model as a basis\n",
    "language_model = Bert.load(base_LM_model)\n",
    "# b) and a prediction head on top that is suited for our task => Question Answering\n",
    "prediction_head = QuestionAnsweringHead(layer_dims=[768, len(label_list)])\n",
    "\n",
    "model = AdaptiveModel(\n",
    "    language_model=language_model,\n",
    "    prediction_heads=[prediction_head],\n",
    "    embeds_dropout_prob=0.1,\n",
    "    lm_output_types=[\"per_token\"],\n",
    "    device=device,\n",
    ")\n",
    "\n",
    "save_dir = \"./saved_models/bert-english-qa-tutorial\"\n",
    "model.save(save_dir)\n",
    "processor.save(save_dir)\n",
    "model = Inferencer.load(save_dir)\n",
    "\n",
    "# Load it & harvest your fruits (Inference)\n",
    "# Example 1\n",
    "QA_input = [\n",
    "        {\n",
    "            \"questions\": [\"Who was the author of The Gutsy Girl: Escapades for Your Life of Epic Adventure?\"],\n",
    "            \"text\":  \"Maria said that Caroline is all about living courageously and embracing adventure in our culture of safe achievement. That is music to my ears. I feel like we have grown soft and weak, and it is time to remedy that with habits, practices, and stories that impart lessons.''On top of that, Caroline can probably kick my ass  and I am actually not kidding whatsoever about that. She is the author of four published books. The latest is the New York Times bestseller The Gutsy Girl: Escapades for Your Life of Epic Adventure. That does not mean this podcast is only for girls, women, or females. It is about overcoming fear. Once a scaredy-cat herself, Caroline decided fear got in the way of the life she wanted, including a life of excitement, confidence, self-reliance, etc.''She has since fought fires as one of the first female firefighters in San Francisco, flown planes, rafted big rivers, climbed tall mountains  like Denali  and much, much more.''In this episode we discuss various types of fear and how she has overcome them, or minimized them, and how you can do the same. So please enjoy my conversation with Caroline Paul.''Caroline, welcome to the show.''Caroline Paul: Thanks, Tim. I'm really happy to be here.\"\n",
    "        }]\n",
    "\n",
    "\n",
    "result = model.run_inference(dicts=QA_input)\n",
    "\n",
    "for x in result:\n",
    "    pprint.pprint(x)\n",
    "\n"
   ]
  },
  {
   "cell_type": "code",
   "execution_count": 12,
   "metadata": {},
   "outputs": [
    {
     "name": "stderr",
     "output_type": "stream",
     "text": [
      "09/22/2019 12:06:27 - INFO - farm.data_handler.processor -   Got ya 1 parallel workers to fill the baskets with samples (chunksize = 20)...\n",
      "100%|██████████| 1/1 [00:00<00:00, 132.54it/s]\n",
      "09/22/2019 12:06:27 - INFO - farm.data_handler.processor -   Got ya 1 parallel workers to featurize samples in baskets (chunksize = 20) ...\n",
      "100%|██████████| 1/1 [00:00<00:00, 131.97it/s]\n"
     ]
    },
    {
     "name": "stdout",
     "output_type": "stream",
     "text": [
      "{'predictions': [{'context': 'If you have such low visibility, how do you '\n",
      "                             'search for a dead body?',\n",
      "                  'end': 304,\n",
      "                  'label': 'of magnitude. If you have such low visibility, how '\n",
      "                           \"do you search for a dead body?''Caroline Paul: The \"\n",
      "                           'worst way. You feel for a dead body. You swim very '\n",
      "                           'slowly with one hand holding',\n",
      "                  'probability': None,\n",
      "                  'start': 122}],\n",
      " 'task': 'qa'}\n"
     ]
    }
   ],
   "source": [
    "# Example 2\n",
    "QA_input = [\n",
    "        {\n",
    "            \"questions\": [\"If you have such low visibility, how do you search for a dead body?\"],\n",
    "            \"text\":  \"It sounds terrifying without the dead body. In that case, the bay is certainly larger than a swimming pool by many orders of magnitude. If you have such low visibility, how do you search for a dead body?''Caroline Paul: The worst way. You feel for a dead body. You swim very slowly with one hand holding a rope because you\\u2019re guided from the top. You want to do a certain pattern. The other hand is reaching out very slowly and feeling. If you do the search pattern right, you cover a pretty wide area. And I\\u2019ll tell you the things at the bottom of the bay are amazing \\u2013 shopping carts, tires, pipes, cans.\"\n",
    "        }]\n",
    "\n",
    "result = model.run_inference(dicts=QA_input)\n",
    "\n",
    "for x in result:\n",
    "    pprint.pprint(x)"
   ]
  },
  {
   "cell_type": "code",
   "execution_count": 13,
   "metadata": {},
   "outputs": [
    {
     "name": "stderr",
     "output_type": "stream",
     "text": [
      "09/22/2019 12:06:27 - INFO - farm.data_handler.processor -   Got ya 1 parallel workers to fill the baskets with samples (chunksize = 20)...\n",
      "100%|██████████| 1/1 [00:00<00:00, 97.75it/s]\n",
      "09/22/2019 12:06:27 - INFO - farm.data_handler.processor -   Got ya 1 parallel workers to featurize samples in baskets (chunksize = 20) ...\n",
      "100%|██████████| 1/1 [00:00<00:00, 99.21it/s]\n"
     ]
    },
    {
     "name": "stdout",
     "output_type": "stream",
     "text": [
      "{'predictions': [{'context': 'Why it is a problem to base all of gymnastics '\n",
      "                             'training off muscular fatigue?',\n",
      "                  'end': 482,\n",
      "                  'label': 's, and there are old gymnasts, but there are no '\n",
      "                           'old, stupid gymnasts because they’re all dead. But '\n",
      "                           'most people, most beginners, they want to base all '\n",
      "                           'of their training off muscular fatigue, which is a '\n",
      "                           'problem. It’s problematic because muscle tissue '\n",
      "                           'regenerates about every 90 days from end to end, '\n",
      "                           'all of the cells, everything is done in 90 days. '\n",
      "                           'That’s',\n",
      "                  'probability': None,\n",
      "                  'start': 128}],\n",
      " 'task': 'qa'}\n"
     ]
    }
   ],
   "source": [
    "# Example 3\n",
    "QA_input = [\n",
    "        {\n",
    "            \"questions\": [\"Why it is a problem to base all of gymnastics training off muscular fatigue?\"],\n",
    "            \"text\":  \" That\\u2019s the story of my life.''Coach Sommer: The story of all of our lives.''I used to tell my athletes there are stupid gymnasts, and there are old gymnasts, but there are no old, stupid gymnasts because they\\u2019re all dead. But most people, most beginners, they want to base all of their training off muscular fatigue, which is a problem. It\\u2019s problematic because muscle tissue regenerates about every 90 days from end to end, all of the cells, everything is done in 90 days. That\\u2019s fine. But connective tissue takes 200 to 210 days. So we have a huge gap. So if I get in, and I\\u2019m not a big fan of beginners training to failure simply because their structure isn\\u2019t mature enough yet to handle it safely. And by mature, I simply mean enough productive, well structured hours under their belt.\"\n",
    "        }]\n",
    "\n",
    "result = model.run_inference(dicts=QA_input)\n",
    "\n",
    "for x in result:\n",
    "    pprint.pprint(x)\n"
   ]
  },
  {
   "cell_type": "markdown",
   "metadata": {},
   "source": [
    "### Findings\n",
    "* It is working much better than the previous cdQA model"
   ]
  },
  {
   "cell_type": "markdown",
   "metadata": {},
   "source": [
    " ## Conclusion\n",
    "\n",
    " This text corpus is way more challenging than expected. Topic modeling and extraction works quite well, but using pre-trained models and state of the art transformer architectues won't give you free lunch. Result are far away from thinking about operationalizing the model.\n",
    "\n",
    " #### Things to do next:\n",
    " * Fine tune transformer model for clustering, also for QnA model: domain and taks adaption\n",
    " * Use a transformer model for topic modeling and extraction\n",
    " * Get more QnA pairs\n",
    " * Get rid of unhelpful paragraphs for the QnA model\n",
    " * Build an API\n",
    " * Build a Telegram Chatbot"
   ]
  },
  {
   "cell_type": "markdown",
   "metadata": {},
   "source": [
    " ### Miscellaneous"
   ]
  },
  {
   "cell_type": "code",
   "execution_count": 0,
   "metadata": {},
   "outputs": [],
   "source": [
    "# Fix issue where the id is missing\n",
    "import uuid\n",
    "import json\n",
    "\n",
    "with open('cdqa-v1.1-xxxx.json') as json_file:\n",
    "    annotated_dataset = json.load(json_file)\n",
    "\n",
    "for doc in annotated_dataset['data']:\n",
    "    for p in doc['paragraphs']:\n",
    "        for qa in p['qas']:\n",
    "            qa['id'] = str(uuid.uuid4())\n",
    "\n",
    "with open('cdqa-v1.1-tim_qna.json', 'w') as outfile:\n",
    "    json.dump(annotated_dataset, outfile)\n"
   ]
  }
 ],
 "metadata": {
  "file_extension": ".py",
  "kernelspec": {
   "display_name": "Python 3",
   "language": "python",
   "name": "python3"
  },
  "language_info": {
   "codemirror_mode": {
    "name": "ipython",
    "version": 3
   },
   "file_extension": ".py",
   "mimetype": "text/x-python",
   "name": "python",
   "nbconvert_exporter": "python",
   "pygments_lexer": "ipython3",
   "version": "3.7.4"
  },
  "mimetype": "text/x-python",
  "name": "python",
  "npconvert_exporter": "python",
  "pygments_lexer": "ipython3",
  "version": 3
 },
 "nbformat": 4,
 "nbformat_minor": 2
}
